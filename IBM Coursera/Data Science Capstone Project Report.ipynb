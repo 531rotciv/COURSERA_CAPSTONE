{
 "cells": [
  {
   "cell_type": "markdown",
   "metadata": {
    "collapsed": true
   },
   "source": [
    "# Data Science Capstone: Comparison of Toronto to Tokyo \n",
    "\n",
    "## Goal: \n",
    "\n",
    "To analyze districts in Tokyo and neighbourhoods in Toronto with the goal of finding similarities between districts and neighbourhoods.  In the end, a recommendation to a company looking to open up a new location of where to build in order to succeed should be possible based on the similarities between the districts and neighbourhoods.  In order to do this, I will be using venues within each neighbourhood in Toronto, or district in Tokyo, as well as average income in each neighbourhood or district.  Similar districts will be clustered and displayed on maps of the regions. \n"
   ]
  },
  {
   "cell_type": "markdown",
   "metadata": {},
   "source": [
    "## Background: \n",
    "\n",
    "Culturally, there is a significant gap between the East and the West.  This can pose a challenge for companies to branch out from one region into another.  With this project, I hope to take a look at two cities, one on each side of the world, and determine where similarities exist that could allow a company to expand into an unfamiliar market. This project is designed to aid business owners in determining where they might want to focus their attention when attempting to build a new location."
   ]
  },
  {
   "cell_type": "markdown",
   "metadata": {},
   "source": [
    "## Description of Data: \n",
    "\n",
    "In order to solve this problem, I plan to use zipcode/postal code information from both Toronto, and Tokyo, and use that information in order to find venues in each neighbourhood.  I also have average income for each neighbourhood or district, and plan to group ranges in income into categorical variables in order to feed the clustering algorithm average income of the neighbourhood as another variable to consider in its clustering process. \n",
    "\n",
    "Japan divides Tokyo into wards, and then further divides those wards using postal codes.  An example can be found below:\n",
    "\n",
    "| Location | zipcode |\n",
    "| ---- | ---- |\n",
    "| Minato-ku | 105-0000 |\n",
    "| Akasaka (apart from the following buildings) | 赤坂（次のビルを除く）\t107-0052 |\n",
    "\n",
    "Toronto neighbourhoods and postal code data comes in the following format:\n",
    "\n",
    "| Postal Code | Borough | Neighbourhood |\n",
    "| ---- | ---- | ---- |\n",
    "| M3A | North York | Parkwoods |\n",
    "| M4A | North York | Victoria Village |\n",
    "\n",
    "Information about the average annual income of each ward in Tokyo can be found below.  This information will be assigned to each of the postal codes within the ward, to be used as a categorical variable used for the kmeans clustering for each postal code.\n",
    "\n",
    "| ID  | Ward | Average Income |\n",
    "| --- | --- | --- |\n",
    "| 1 | Minato | 9,020,000 yen | \n",
    "| 2 | Chiyoda | 7,840,000 yen |\n",
    "\n",
    "Toronto provides a greater granularity in its average income data.  The continuous variable of average income before taxes will be grouped into ranges, represented by categories, that will be fed into the clustering algorithm.  This will allow us to cluster neighbourhoods using more than just the venues that are located within that neighbourhood.  \n",
    "\n",
    "| Neighbourhood | Average Household Income Before Taxes\t| Median Household Income Before Taxes | Average Household Income After Taxes | Median Household Income After Taxes |\n",
    "| --- | --- | --- | --- | ---  |\n",
    "| Toronto | 109,480\t| 78,378 | 87,993 | 68,627 |\n",
    "| Agincourt/Malvern\t| 80,147 | 68,108 |\t71,025\t| 62,304 |\n",
    "| Ajax/Pickering\t| 115,659\t| 98,363 \t| 94,805\t| 84,66 |\n",
    "\n",
    "Finally, the FourSquare API will be used in order to gain information about the venues that are within each neighbourhood, which would give a business owner an idea of what is popular in a specific area, where the market may be oversaturated, or what's missing from a neighbourhood.  \n",
    "\n",
    "The foursquare API will return json data about each venue in a neighbourhood, and where they are located.  This data will be used in order to determine what is popular in an area.  \n",
    "\n"
   ]
  },
  {
   "cell_type": "code",
   "execution_count": null,
   "metadata": {},
   "outputs": [],
   "source": []
  }
 ],
 "metadata": {
  "kernelspec": {
   "display_name": "Python 3.6",
   "language": "python",
   "name": "python3"
  },
  "language_info": {
   "codemirror_mode": {
    "name": "ipython",
    "version": 3
   },
   "file_extension": ".py",
   "mimetype": "text/x-python",
   "name": "python",
   "nbconvert_exporter": "python",
   "pygments_lexer": "ipython3",
   "version": "3.6.9"
  }
 },
 "nbformat": 4,
 "nbformat_minor": 1
}
